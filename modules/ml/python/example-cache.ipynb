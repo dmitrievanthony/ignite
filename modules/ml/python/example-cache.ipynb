{
 "cells": [
  {
   "cell_type": "markdown",
   "metadata": {},
   "source": [
    "# Hello, Ignite ML with Ignite Cache!\n",
    "\n",
    "This document contains example of Ignite ML Python API for training on Ignite Cache."
   ]
  },
  {
   "cell_type": "code",
   "execution_count": 1,
   "metadata": {
    "collapsed": true
   },
   "outputs": [],
   "source": [
    "from ignite_ml.core import Ignite\n",
    "\n",
    "from sklearn.datasets import make_regression\n",
    "from sklearn.datasets import make_classification \n",
    "from sklearn.datasets import make_blobs\n",
    "from sklearn.model_selection import train_test_split\n",
    "from sklearn.metrics import r2_score\n",
    "from sklearn.metrics import accuracy_score \n",
    "\n",
    "from ignite_ml.model_selection import train_test_split as ignite_train_test_split\n",
    "from ignite_ml.metrics import rmse_score as ignite_rmse_score\n",
    "\n",
    "import numpy as np\n",
    "import matplotlib.pyplot as plt\n",
    "%matplotlib inline"
   ]
  },
  {
   "cell_type": "markdown",
   "metadata": {},
   "source": [
    "## 1. Regression\n",
    "\n",
    "Lets prepare a regression dataset using scikit-learn."
   ]
  },
  {
   "cell_type": "code",
   "execution_count": 2,
   "metadata": {
    "collapsed": true
   },
   "outputs": [],
   "source": [
    "x, y = make_regression(n_targets=1)\n",
    "x_train, x_test, y_train, y_test = train_test_split(x, y)"
   ]
  },
  {
   "cell_type": "code",
   "execution_count": 3,
   "metadata": {
    "collapsed": true
   },
   "outputs": [],
   "source": [
    "def test_regression_on_cache(fun):\n",
    "    with Ignite(\"/home/gridgain/ignite/examples/config/example-ignite.xml\") as ignite:\n",
    "        xy = np.column_stack((x, y))\n",
    "        cache = ignite.create_cache(\"test-regression\", parts=1)\n",
    "        for i in range(len(xy)):\n",
    "            cache.put(i, xy[i])\n",
    "        return fun(cache)"
   ]
  },
  {
   "cell_type": "markdown",
   "metadata": {},
   "source": [
    "### 1.1. Linear Regression\n",
    "\n",
    "Now lets train a linear model using Ignite ML and estimate the quality of the model:"
   ]
  },
  {
   "cell_type": "code",
   "execution_count": 4,
   "metadata": {},
   "outputs": [
    {
     "data": {
      "text/plain": [
       "46.47005119102306"
      ]
     },
     "execution_count": 4,
     "metadata": {},
     "output_type": "execute_result"
    }
   ],
   "source": [
    "from ignite_ml.regression import LinearRegressionTrainer\n",
    "from ignite_ml.metrics import rss_score\n",
    "from ignite_ml.metrics import mse_score\n",
    "\n",
    "\n",
    "def train_and_score(cache):\n",
    "    train_cache, test_cache = ignite_train_test_split(cache)\n",
    "    trainer = LinearRegressionTrainer()\n",
    "    model = trainer.fit(train_cache)\n",
    "    return ignite_rmse_score(test_cache, model)\n",
    "\n",
    "test_regression_on_cache(train_and_score)"
   ]
  },
  {
   "cell_type": "markdown",
   "metadata": {},
   "source": [
    "And just to compare lets do the same for scikit-learn:"
   ]
  },
  {
   "cell_type": "code",
   "execution_count": 5,
   "metadata": {},
   "outputs": [
    {
     "data": {
      "text/plain": [
       "0.6009031110897062"
      ]
     },
     "execution_count": 5,
     "metadata": {},
     "output_type": "execute_result"
    }
   ],
   "source": [
    "from sklearn.linear_model import LinearRegression\n",
    "\n",
    "reg = LinearRegression()\n",
    "reg.fit(x_train, y_train)\n",
    "r2_score(y_test, reg.predict(x_test))"
   ]
  },
  {
   "cell_type": "markdown",
   "metadata": {},
   "source": [
    "### 1.2. Decision Tree Regression\n",
    "\n",
    "Using Ignite ML:"
   ]
  },
  {
   "cell_type": "code",
   "execution_count": 6,
   "metadata": {},
   "outputs": [
    {
     "data": {
      "text/plain": [
       "76.25483894235427"
      ]
     },
     "execution_count": 6,
     "metadata": {},
     "output_type": "execute_result"
    }
   ],
   "source": [
    "from ignite_ml.regression import DecisionTreeRegressionTrainer\n",
    "\n",
    "def train_and_score(cache):\n",
    "    train_cache, test_cache = ignite_train_test_split(cache)\n",
    "    trainer = DecisionTreeRegressionTrainer()\n",
    "    model = trainer.fit(train_cache)\n",
    "    return ignite_rmse_score(test_cache, model)\n",
    "\n",
    "test_regression_on_cache(train_and_score)"
   ]
  },
  {
   "cell_type": "markdown",
   "metadata": {},
   "source": [
    "And using scikit-learn:"
   ]
  },
  {
   "cell_type": "code",
   "execution_count": 7,
   "metadata": {},
   "outputs": [
    {
     "data": {
      "text/plain": [
       "-1.1152320113897365"
      ]
     },
     "execution_count": 7,
     "metadata": {},
     "output_type": "execute_result"
    }
   ],
   "source": [
    "from sklearn.tree import DecisionTreeRegressor\n",
    "\n",
    "reg = DecisionTreeRegressor()\n",
    "reg.fit(x_train, y_train)\n",
    "r2_score(y_test, reg.predict(x_test))"
   ]
  },
  {
   "cell_type": "markdown",
   "metadata": {},
   "source": [
    "### 1.3. KNN Regression\n",
    "\n",
    "Using Ignite ML:"
   ]
  },
  {
   "cell_type": "code",
   "execution_count": 8,
   "metadata": {},
   "outputs": [
    {
     "data": {
      "text/plain": [
       "120.35643895174866"
      ]
     },
     "execution_count": 8,
     "metadata": {},
     "output_type": "execute_result"
    }
   ],
   "source": [
    "from ignite_ml.regression import KNNRegressionTrainer\n",
    "    \n",
    "def train_and_score(cache):\n",
    "    train_cache, test_cache = ignite_train_test_split(cache)\n",
    "    trainer = KNNRegressionTrainer()\n",
    "    model = trainer.fit(train_cache)\n",
    "    return ignite_rmse_score(test_cache, model)\n",
    "\n",
    "test_regression_on_cache(train_and_score)"
   ]
  },
  {
   "cell_type": "markdown",
   "metadata": {},
   "source": [
    "And using scikit-learn:"
   ]
  },
  {
   "cell_type": "code",
   "execution_count": 9,
   "metadata": {},
   "outputs": [
    {
     "data": {
      "text/plain": [
       "0.24164394275660306"
      ]
     },
     "execution_count": 9,
     "metadata": {},
     "output_type": "execute_result"
    }
   ],
   "source": [
    "from sklearn.neighbors import KNeighborsRegressor\n",
    "\n",
    "reg = KNeighborsRegressor()\n",
    "reg.fit(x_train, y_train)\n",
    "r2_score(y_test, reg.predict(x_test))"
   ]
  },
  {
   "cell_type": "markdown",
   "metadata": {},
   "source": [
    "### 1.4 Random Forest Regression\n",
    "\n",
    "Using Ignite ML:"
   ]
  },
  {
   "cell_type": "code",
   "execution_count": 10,
   "metadata": {},
   "outputs": [
    {
     "data": {
      "text/plain": [
       "157.27022730935727"
      ]
     },
     "execution_count": 10,
     "metadata": {},
     "output_type": "execute_result"
    }
   ],
   "source": [
    "from ignite_ml.regression import RandomForestRegressionTrainer\n",
    "\n",
    "def train_and_score(cache):\n",
    "    train_cache, test_cache = ignite_train_test_split(cache)\n",
    "    trainer = RandomForestRegressionTrainer(100)\n",
    "    model = trainer.fit(train_cache)\n",
    "    return ignite_rmse_score(test_cache, model)\n",
    "\n",
    "test_regression_on_cache(train_and_score)"
   ]
  },
  {
   "cell_type": "code",
   "execution_count": 11,
   "metadata": {},
   "outputs": [
    {
     "name": "stderr",
     "output_type": "stream",
     "text": [
      "/home/gridgain/anaconda3/lib/python3.6/site-packages/sklearn/ensemble/weight_boosting.py:29: DeprecationWarning: numpy.core.umath_tests is an internal NumPy module and should not be imported. It will be removed in a future NumPy release.\n",
      "  from numpy.core.umath_tests import inner1d\n"
     ]
    },
    {
     "data": {
      "text/plain": [
       "0.37235550171990606"
      ]
     },
     "execution_count": 11,
     "metadata": {},
     "output_type": "execute_result"
    }
   ],
   "source": [
    "from sklearn.ensemble import RandomForestRegressor\n",
    "\n",
    "reg = RandomForestRegressor()\n",
    "reg.fit(x_train, y_train)\n",
    "r2_score(y_test, reg.predict(x_test))"
   ]
  },
  {
   "cell_type": "markdown",
   "metadata": {},
   "source": [
    "### 1.5 MLP Regression\n",
    "\n",
    "Using Ignite ML:"
   ]
  },
  {
   "cell_type": "code",
   "execution_count": 12,
   "metadata": {},
   "outputs": [
    {
     "data": {
      "text/plain": [
       "0.9715561244647158"
      ]
     },
     "execution_count": 12,
     "metadata": {},
     "output_type": "execute_result"
    }
   ],
   "source": [
    "from ignite_ml.regression import MLPArchitecture\n",
    "from ignite_ml.regression import MLPRegressionTrainer\n",
    "\n",
    "def train_and_score(cache):\n",
    "    train_cache, test_cache = ignite_train_test_split(cache)\n",
    "    trainer = MLPRegressionTrainer(MLPArchitecture(100).with_layer(1, activator='linear'))\n",
    "    model = trainer.fit(train_cache)\n",
    "    return r2_score(y_test, model.predict(x_test))\n",
    "\n",
    "test_regression_on_cache(train_and_score)"
   ]
  },
  {
   "cell_type": "markdown",
   "metadata": {},
   "source": [
    "And using scikit-learn:"
   ]
  },
  {
   "cell_type": "code",
   "execution_count": 13,
   "metadata": {},
   "outputs": [
    {
     "data": {
      "text/plain": [
       "0.1513816785527532"
      ]
     },
     "execution_count": 13,
     "metadata": {},
     "output_type": "execute_result"
    }
   ],
   "source": [
    "from sklearn.neural_network import MLPRegressor\n",
    "\n",
    "reg = MLPRegressor(max_iter=10000)\n",
    "reg.fit(x_train, y_train)\n",
    "r2_score(y_test, reg.predict(x_test))"
   ]
  },
  {
   "cell_type": "markdown",
   "metadata": {},
   "source": [
    "## 2. Classification\n",
    "\n",
    "Lets prepare a classification dataset using scikit-learn."
   ]
  },
  {
   "cell_type": "code",
   "execution_count": 14,
   "metadata": {
    "collapsed": true
   },
   "outputs": [],
   "source": [
    "x, y = make_classification()\n",
    "x_train, x_test, y_train, y_test = train_test_split(x, y)"
   ]
  },
  {
   "cell_type": "code",
   "execution_count": 15,
   "metadata": {
    "collapsed": true
   },
   "outputs": [],
   "source": [
    "def test_regression_on_cache(fun):\n",
    "    with Ignite(\"/home/gridgain/ignite/examples/config/example-ignite.xml\") as ignite:\n",
    "        xy = np.column_stack((x, y))\n",
    "        cache = ignite.create_cache(\"test-classification\", parts=1)\n",
    "        for i in range(xy.shape[0]):\n",
    "            cache.put(i, xy[i])\n",
    "        return fun(cache)"
   ]
  },
  {
   "cell_type": "markdown",
   "metadata": {},
   "source": [
    "### 2.1 Decision Tree Classification\n",
    "\n",
    "Using Ignite ML:"
   ]
  },
  {
   "cell_type": "code",
   "execution_count": 16,
   "metadata": {},
   "outputs": [
    {
     "data": {
      "text/plain": [
       "0.93"
      ]
     },
     "execution_count": 16,
     "metadata": {},
     "output_type": "execute_result"
    }
   ],
   "source": [
    "from ignite_ml.classification import DecisionTreeClassificationTrainer\n",
    "from ignite_ml.metrics import accuracy_score as ignite_accuracy_score\n",
    "\n",
    "def train_and_score(cache):\n",
    "    train_cache, test_cache = ignite_train_test_split(cache)\n",
    "    trainer = DecisionTreeClassificationTrainer()\n",
    "    model = trainer.fit(train_cache)\n",
    "    return ignite_accuracy_score(test_cache, model)\n",
    "\n",
    "test_regression_on_cache(train_and_score)"
   ]
  },
  {
   "cell_type": "markdown",
   "metadata": {},
   "source": [
    "And using scikit-learn:"
   ]
  },
  {
   "cell_type": "code",
   "execution_count": 17,
   "metadata": {},
   "outputs": [
    {
     "data": {
      "text/plain": [
       "0.8"
      ]
     },
     "execution_count": 17,
     "metadata": {},
     "output_type": "execute_result"
    }
   ],
   "source": [
    "from sklearn.tree import DecisionTreeClassifier\n",
    "\n",
    "clf = DecisionTreeClassifier()\n",
    "clf.fit(x_train, y_train)\n",
    "accuracy_score(y_test, clf.predict(x_test))"
   ]
  },
  {
   "cell_type": "markdown",
   "metadata": {},
   "source": [
    "### 2.2 ANN Classification\n",
    "\n",
    "Using Ignite ML:"
   ]
  },
  {
   "cell_type": "code",
   "execution_count": 18,
   "metadata": {},
   "outputs": [
    {
     "data": {
      "text/plain": [
       "0.5"
      ]
     },
     "execution_count": 18,
     "metadata": {},
     "output_type": "execute_result"
    }
   ],
   "source": [
    "from ignite_ml.classification import ANNClassificationTrainer\n",
    "\n",
    "def train_and_score(cache):\n",
    "    train_cache, test_cache = ignite_train_test_split(cache)\n",
    "    trainer = ANNClassificationTrainer()\n",
    "    model = trainer.fit(train_cache)\n",
    "    return ignite_accuracy_score(test_cache, model)\n",
    "\n",
    "test_regression_on_cache(train_and_score)"
   ]
  },
  {
   "cell_type": "markdown",
   "metadata": {},
   "source": [
    "### 2.3 KNN Classification\n",
    "\n",
    "Using Ignite ML:"
   ]
  },
  {
   "cell_type": "code",
   "execution_count": 19,
   "metadata": {},
   "outputs": [
    {
     "data": {
      "text/plain": [
       "0.76"
      ]
     },
     "execution_count": 19,
     "metadata": {},
     "output_type": "execute_result"
    }
   ],
   "source": [
    "from ignite_ml.classification import KNNClassificationTrainer\n",
    "\n",
    "def train_and_score(cache):\n",
    "    train_cache, test_cache = ignite_train_test_split(cache)\n",
    "    trainer = KNNClassificationTrainer()\n",
    "    model = trainer.fit(train_cache)\n",
    "    return ignite_accuracy_score(test_cache, model)\n",
    "\n",
    "test_regression_on_cache(train_and_score)"
   ]
  },
  {
   "cell_type": "markdown",
   "metadata": {},
   "source": [
    "And using scikit-learn:"
   ]
  },
  {
   "cell_type": "code",
   "execution_count": 20,
   "metadata": {},
   "outputs": [
    {
     "data": {
      "text/plain": [
       "0.64"
      ]
     },
     "execution_count": 20,
     "metadata": {},
     "output_type": "execute_result"
    }
   ],
   "source": [
    "from sklearn.neighbors import KNeighborsClassifier\n",
    "\n",
    "clf = KNeighborsClassifier()\n",
    "clf.fit(x_train, y_train)\n",
    "accuracy_score(y_test, clf.predict(x_test))"
   ]
  },
  {
   "cell_type": "markdown",
   "metadata": {
    "collapsed": true
   },
   "source": [
    "### 2.4 LogReg Classification\n",
    "\n",
    "Using Ignite ML:"
   ]
  },
  {
   "cell_type": "code",
   "execution_count": 21,
   "metadata": {},
   "outputs": [
    {
     "data": {
      "text/plain": [
       "0.8"
      ]
     },
     "execution_count": 21,
     "metadata": {},
     "output_type": "execute_result"
    }
   ],
   "source": [
    "from ignite_ml.classification import LogRegClassificationTrainer\n",
    "\n",
    "def train_and_score(cache):\n",
    "    train_cache, test_cache = ignite_train_test_split(cache)\n",
    "    trainer = LogRegClassificationTrainer()\n",
    "    model = trainer.fit(train_cache)\n",
    "    return ignite_accuracy_score(test_cache, model)\n",
    "\n",
    "test_regression_on_cache(train_and_score)"
   ]
  },
  {
   "cell_type": "markdown",
   "metadata": {},
   "source": [
    "And using scikit-learn:"
   ]
  },
  {
   "cell_type": "code",
   "execution_count": 22,
   "metadata": {},
   "outputs": [
    {
     "data": {
      "text/plain": [
       "0.76"
      ]
     },
     "execution_count": 22,
     "metadata": {},
     "output_type": "execute_result"
    }
   ],
   "source": [
    "from sklearn.linear_model import LogisticRegression\n",
    "\n",
    "clf = LogisticRegression()\n",
    "clf.fit(x_train, y_train)\n",
    "accuracy_score(y_test, clf.predict(x_test))"
   ]
  },
  {
   "cell_type": "markdown",
   "metadata": {},
   "source": [
    "### 2.5 SVM Classification\n",
    "\n",
    "Using Ignite ML:"
   ]
  },
  {
   "cell_type": "code",
   "execution_count": 23,
   "metadata": {},
   "outputs": [
    {
     "data": {
      "text/plain": [
       "0.82"
      ]
     },
     "execution_count": 23,
     "metadata": {},
     "output_type": "execute_result"
    }
   ],
   "source": [
    "from ignite_ml.classification import SVMClassificationTrainer\n",
    "\n",
    "def train_and_score(cache):\n",
    "    train_cache, test_cache = ignite_train_test_split(cache)\n",
    "    trainer = SVMClassificationTrainer()\n",
    "    model = trainer.fit(train_cache)\n",
    "    return ignite_accuracy_score(test_cache, model)\n",
    "\n",
    "test_regression_on_cache(train_and_score)"
   ]
  },
  {
   "cell_type": "markdown",
   "metadata": {},
   "source": [
    "And using scikit-learn:"
   ]
  },
  {
   "cell_type": "code",
   "execution_count": 24,
   "metadata": {},
   "outputs": [
    {
     "data": {
      "text/plain": [
       "0.76"
      ]
     },
     "execution_count": 24,
     "metadata": {},
     "output_type": "execute_result"
    }
   ],
   "source": [
    "from sklearn.svm import LinearSVC\n",
    "\n",
    "clf = LinearSVC()\n",
    "clf.fit(x_train, y_train)\n",
    "accuracy_score(y_test, clf.predict(x_test))"
   ]
  },
  {
   "cell_type": "markdown",
   "metadata": {},
   "source": [
    "### 2.6 Random Forest Classification\n",
    "\n",
    "Using Ignite ML:"
   ]
  },
  {
   "cell_type": "code",
   "execution_count": 25,
   "metadata": {},
   "outputs": [
    {
     "data": {
      "text/plain": [
       "0.78"
      ]
     },
     "execution_count": 25,
     "metadata": {},
     "output_type": "execute_result"
    }
   ],
   "source": [
    "from ignite_ml.classification import RandomForestClassificationTrainer\n",
    "\n",
    "def train_and_score(cache):\n",
    "    train_cache, test_cache = ignite_train_test_split(cache)\n",
    "    trainer = RandomForestClassificationTrainer(20)\n",
    "    model = trainer.fit(train_cache)\n",
    "    return ignite_accuracy_score(test_cache, model)\n",
    "\n",
    "test_regression_on_cache(train_and_score)"
   ]
  },
  {
   "cell_type": "markdown",
   "metadata": {},
   "source": [
    "And using scikit-learn:"
   ]
  },
  {
   "cell_type": "code",
   "execution_count": 26,
   "metadata": {},
   "outputs": [
    {
     "data": {
      "text/plain": [
       "0.8"
      ]
     },
     "execution_count": 26,
     "metadata": {},
     "output_type": "execute_result"
    }
   ],
   "source": [
    "from sklearn.ensemble import RandomForestClassifier\n",
    "\n",
    "clf = RandomForestClassifier()\n",
    "clf.fit(x_train, y_train)\n",
    "accuracy_score(y_test, clf.predict(x_test))"
   ]
  },
  {
   "cell_type": "markdown",
   "metadata": {},
   "source": [
    "## 3. Clustering\n",
    "\n",
    "Lets prepare a clustering dataset using scikit-learn."
   ]
  },
  {
   "cell_type": "code",
   "execution_count": 27,
   "metadata": {
    "collapsed": true
   },
   "outputs": [],
   "source": [
    "x, y = make_blobs(n_samples=2000, n_features=2, cluster_std=1.0, centers=[(-3, -3), (0, 0), (3, 3)])"
   ]
  },
  {
   "cell_type": "code",
   "execution_count": 28,
   "metadata": {},
   "outputs": [
    {
     "data": {
      "image/png": "[encoded data removed]",
      "text/plain": [
       "<matplotlib.figure.Figure at 0x7fe9a8b26898>"
      ]
     },
     "metadata": {},
     "output_type": "display_data"
    }
   ],
   "source": [
    "for i in range(3):\n",
    "    plt.scatter(x[y == i][:, 0], x[y == i][:, 1], s=1)"
   ]
  },
  {
   "cell_type": "code",
   "execution_count": 29,
   "metadata": {
    "collapsed": true
   },
   "outputs": [],
   "source": [
    "def test_clustering_on_cache(fun):\n",
    "    with Ignite(\"/home/gridgain/ignite/examples/config/example-ignite.xml\") as ignite:\n",
    "        xy = np.column_stack((x, y))\n",
    "        cache = ignite.create_cache(\"test-clustering\", parts=1)\n",
    "        for i in range(xy.shape[0]):\n",
    "            cache.put(i, xy[i])\n",
    "        return fun(cache)"
   ]
  },
  {
   "cell_type": "markdown",
   "metadata": {},
   "source": [
    "### 3.1 KMeans Clustering\n",
    "\n",
    "Using Ignite ML:"
   ]
  },
  {
   "cell_type": "code",
   "execution_count": 30,
   "metadata": {},
   "outputs": [
    {
     "data": {
      "image/png": "[encoded data removed]",
      "text/plain": [
       "<matplotlib.figure.Figure at 0x7fe9a8b265f8>"
      ]
     },
     "metadata": {},
     "output_type": "display_data"
    }
   ],
   "source": [
    "from ignite_ml.clustering import KMeansClusteringTrainer\n",
    "\n",
    "def train_and_score(cache):\n",
    "    train_cache, test_cache = ignite_train_test_split(cache)\n",
    "    trainer = KMeansClusteringTrainer(amount_of_clusters=2)\n",
    "    return trainer.fit(train_cache)\n",
    "\n",
    "model = test_clustering_on_cache(train_and_score)\n",
    "\n",
    "y_predicted = np.array(model.predict(x))\n",
    "for i in range(2):\n",
    "    plt.scatter(x[y_predicted == i][:, 0], x[y_predicted == i][:, 1], s=1)"
   ]
  },
  {
   "cell_type": "markdown",
   "metadata": {},
   "source": [
    "And using scikit-learn:"
   ]
  },
  {
   "cell_type": "code",
   "execution_count": 31,
   "metadata": {},
   "outputs": [
    {
     "data": {
      "image/png": "[encoded data removed]",
      "text/plain": [
       "<matplotlib.figure.Figure at 0x7fe9a80dc898>"
      ]
     },
     "metadata": {},
     "output_type": "display_data"
    }
   ],
   "source": [
    "from sklearn.cluster import KMeans\n",
    "\n",
    "clr = KMeans(n_clusters=2)\n",
    "clr.fit(x)\n",
    "\n",
    "y_predicted = np.array(clr.predict(x))\n",
    "for i in range(2):\n",
    "    plt.scatter(x[y_predicted == i][:, 0], x[y_predicted == i][:, 1], s=1)"
   ]
  },
  {
   "cell_type": "markdown",
   "metadata": {},
   "source": [
    "### 3.2 GMM Clustering\n",
    "\n",
    "Using Ignite ML:"
   ]
  },
  {
   "cell_type": "code",
   "execution_count": 32,
   "metadata": {},
   "outputs": [
    {
     "data": {
      "image/png": "[encoded data removed]",
      "text/plain": [
       "<matplotlib.figure.Figure at 0x7fe9a80c5dd8>"
      ]
     },
     "metadata": {},
     "output_type": "display_data"
    }
   ],
   "source": [
    "from ignite_ml.clustering import GMMClusteringTrainer\n",
    "\n",
    "def train_and_score(cache):\n",
    "    train_cache, test_cache = ignite_train_test_split(cache)\n",
    "    trainer = GMMClusteringTrainer(count_of_components=2, max_count_of_clusters=2)\n",
    "    return trainer.fit(train_cache)\n",
    "\n",
    "model = test_clustering_on_cache(train_and_score)\n",
    "\n",
    "y_predicted = np.array(model.predict(x))\n",
    "for i in range(2):\n",
    "    plt.scatter(x[y_predicted == i][:, 0], x[y_predicted == i][:, 1], s=1)"
   ]
  },
  {
   "cell_type": "code",
   "execution_count": null,
   "metadata": {
    "collapsed": true
   },
   "outputs": [],
   "source": []
  }
 ],
 "metadata": {
  "kernelspec": {
   "display_name": "Python 3",
   "language": "python",
   "name": "python3"
  },
  "language_info": {
   "codemirror_mode": {
    "name": "ipython",
    "version": 3
   },
   "file_extension": ".py",
   "mimetype": "text/x-python",
   "name": "python",
   "nbconvert_exporter": "python",
   "pygments_lexer": "ipython3",
   "version": "3.6.3"
  }
 },
 "nbformat": 4,
 "nbformat_minor": 2
}
